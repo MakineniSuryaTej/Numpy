{
  "nbformat": 4,
  "nbformat_minor": 0,
  "metadata": {
    "colab": {
      "name": "Numpy.ipynb",
      "provenance": [],
      "authorship_tag": "ABX9TyPFJKl8j1RdMslsLrexNnHS",
      "include_colab_link": true
    },
    "kernelspec": {
      "name": "python3",
      "display_name": "Python 3"
    },
    "language_info": {
      "name": "python"
    }
  },
  "cells": [
    {
      "cell_type": "markdown",
      "metadata": {
        "id": "view-in-github",
        "colab_type": "text"
      },
      "source": [
        "<a href=\"https://colab.research.google.com/github/MakineniSuryaTej/Numpy/blob/main/Numpy.ipynb\" target=\"_parent\"><img src=\"https://colab.research.google.com/assets/colab-badge.svg\" alt=\"Open In Colab\"/></a>"
      ]
    },
    {
      "cell_type": "code",
      "metadata": {
        "id": "11UrIsuvKL2j"
      },
      "source": [
        "# Importing Library\n",
        "import numpy as np"
      ],
      "execution_count": 1,
      "outputs": []
    },
    {
      "cell_type": "code",
      "metadata": {
        "colab": {
          "base_uri": "https://localhost:8080/"
        },
        "id": "ie4mg1SUKcT-",
        "outputId": "196128ce-f184-43e3-8363-42348c371e1c"
      },
      "source": [
        "# Single Dimension array \n",
        "array1 = np.array([1, 2, 3, 4, 5])\n",
        "print(array1, type(array1))"
      ],
      "execution_count": 2,
      "outputs": [
        {
          "output_type": "stream",
          "text": [
            "[1 2 3 4 5] <class 'numpy.ndarray'>\n"
          ],
          "name": "stdout"
        }
      ]
    },
    {
      "cell_type": "code",
      "metadata": {
        "colab": {
          "base_uri": "https://localhost:8080/"
        },
        "id": "6-9tf6GAK8j7",
        "outputId": "34797c2d-4651-43b5-efc3-4e478304ad32"
      },
      "source": [
        "# Multi Dimensional array\n",
        "array2 = np.array([[1, 2, 3], [4, 5, 6], [7, 8, 9]])\n",
        "print(array2, type(array2))"
      ],
      "execution_count": 3,
      "outputs": [
        {
          "output_type": "stream",
          "text": [
            "[[1 2 3]\n",
            " [4 5 6]\n",
            " [7 8 9]] <class 'numpy.ndarray'>\n"
          ],
          "name": "stdout"
        }
      ]
    },
    {
      "cell_type": "code",
      "metadata": {
        "colab": {
          "base_uri": "https://localhost:8080/"
        },
        "id": "t87kCOrILS0t",
        "outputId": "f13968f7-a06c-4ce8-865a-c598c7009968"
      },
      "source": [
        "# Array elements filled or initialised with zeros\n",
        "array3 = np.zeros((2, 3))\n",
        "print(array3) "
      ],
      "execution_count": 4,
      "outputs": [
        {
          "output_type": "stream",
          "text": [
            "[[0. 0. 0.]\n",
            " [0. 0. 0.]]\n"
          ],
          "name": "stdout"
        }
      ]
    },
    {
      "cell_type": "code",
      "metadata": {
        "colab": {
          "base_uri": "https://localhost:8080/"
        },
        "id": "dHVrPYUKLkX9",
        "outputId": "d91dd20c-c415-43cf-8830-4915d0d39f92"
      },
      "source": [
        "# Array elements filled with same number\n",
        "array4 = np.full((4,4),5)\n",
        "print(array4)"
      ],
      "execution_count": 5,
      "outputs": [
        {
          "output_type": "stream",
          "text": [
            "[[5 5 5 5]\n",
            " [5 5 5 5]\n",
            " [5 5 5 5]\n",
            " [5 5 5 5]]\n"
          ],
          "name": "stdout"
        }
      ]
    },
    {
      "cell_type": "code",
      "metadata": {
        "colab": {
          "base_uri": "https://localhost:8080/"
        },
        "id": "QqAmkMcuNtZi",
        "outputId": "39b088a9-3d34-4658-f133-f3273a0fb487"
      },
      "source": [
        "# Intialize an array with a range\n",
        "array5 = np.arange(10, 20)\n",
        "array6 = np.arange(10, 40, 5)\n",
        "print(array5, \",\", array6)"
      ],
      "execution_count": 7,
      "outputs": [
        {
          "output_type": "stream",
          "text": [
            "[10 11 12 13 14 15 16 17 18 19] , [10 15 20 25 30 35]\n"
          ],
          "name": "stdout"
        }
      ]
    },
    {
      "cell_type": "code",
      "metadata": {
        "colab": {
          "base_uri": "https://localhost:8080/"
        },
        "id": "XnNVCpRTPjP1",
        "outputId": "0adcc83d-7e17-4ad8-d3d4-0411f48d1b9b"
      },
      "source": [
        "# Initialize an array with random numbers\n",
        "array7 = np.random.randint(100, 1000, 5)\n",
        "print(array7)"
      ],
      "execution_count": 9,
      "outputs": [
        {
          "output_type": "stream",
          "text": [
            "[440 497 626 453 518]\n"
          ],
          "name": "stdout"
        }
      ]
    },
    {
      "cell_type": "code",
      "metadata": {
        "colab": {
          "base_uri": "https://localhost:8080/"
        },
        "id": "rM5siIWXQjc1",
        "outputId": "347e8f82-f32d-4ebd-b324-e626b6ef1dde"
      },
      "source": [
        "# Chage shape\n",
        "array8 = np.array([[1, 2, 3], [4, 5, 6]])\n",
        "print(array8.shape)\n",
        "array8.shape = (3,2)\n",
        "print(array8.shape, array8)"
      ],
      "execution_count": 10,
      "outputs": [
        {
          "output_type": "stream",
          "text": [
            "(2, 3)\n",
            "(3, 2) [[1 2]\n",
            " [3 4]\n",
            " [5 6]]\n"
          ],
          "name": "stdout"
        }
      ]
    },
    {
      "cell_type": "code",
      "metadata": {
        "colab": {
          "base_uri": "https://localhost:8080/"
        },
        "id": "OC6EQEaNRIsz",
        "outputId": "5fe3cafe-86f0-4668-e50a-935a68d86123"
      },
      "source": [
        "# Vertical stack\n",
        "print(np.vstack((array1, array1)))"
      ],
      "execution_count": 12,
      "outputs": [
        {
          "output_type": "stream",
          "text": [
            "[[1 2 3 4 5]\n",
            " [1 2 3 4 5]]\n"
          ],
          "name": "stdout"
        }
      ]
    },
    {
      "cell_type": "code",
      "metadata": {
        "colab": {
          "base_uri": "https://localhost:8080/"
        },
        "id": "3ZlWGH9eR39D",
        "outputId": "95dff33d-af69-4df3-f2d7-57653e3987b9"
      },
      "source": [
        "# Horizantal stack\n",
        "print(np.hstack((array6, array6)))"
      ],
      "execution_count": 13,
      "outputs": [
        {
          "output_type": "stream",
          "text": [
            "[10 15 20 25 30 35 10 15 20 25 30 35]\n"
          ],
          "name": "stdout"
        }
      ]
    },
    {
      "cell_type": "code",
      "metadata": {
        "colab": {
          "base_uri": "https://localhost:8080/"
        },
        "id": "JzygSUu-SD9j",
        "outputId": "7ffa719e-2827-4c03-a337-52220d8e064e"
      },
      "source": [
        "# Column stack\n",
        "print(np.column_stack((array6, array6)))"
      ],
      "execution_count": 14,
      "outputs": [
        {
          "output_type": "stream",
          "text": [
            "[[10 10]\n",
            " [15 15]\n",
            " [20 20]\n",
            " [25 25]\n",
            " [30 30]\n",
            " [35 35]]\n"
          ],
          "name": "stdout"
        }
      ]
    },
    {
      "cell_type": "code",
      "metadata": {
        "colab": {
          "base_uri": "https://localhost:8080/"
        },
        "id": "81EWmlqGSOnI",
        "outputId": "285130b2-9e99-4716-bd69-ed079314eea1"
      },
      "source": [
        "# Intersection and Difference\n",
        "array9 = np.array([10, 20, 30, 40, 50, 60])\n",
        "array10 = np.array([50, 60, 70, 80, 90, 100])\n",
        "print(\"Intersection is \", np.intersect1d(array9, array10))\n",
        "print(\"Difference with respective first array \", np.setdiff1d(array9, array10))\n",
        "print(\"Difference with respective second array \", np.setdiff1d(array10, array9))"
      ],
      "execution_count": 17,
      "outputs": [
        {
          "output_type": "stream",
          "text": [
            "Intersection is  [50 60]\n",
            "Difference with respective first array  [10 20 30 40]\n",
            "Difference with respective second array  [ 70  80  90 100]\n"
          ],
          "name": "stdout"
        }
      ]
    },
    {
      "cell_type": "code",
      "metadata": {
        "colab": {
          "base_uri": "https://localhost:8080/"
        },
        "id": "M8hXTzv7TSg-",
        "outputId": "beecc50d-cd07-4cd4-a0ed-d19250fde550"
      },
      "source": [
        "# Addition\n",
        "print(np.sum([array9, array10]))\n",
        "print(np.sum([array9, array10], axis=0))\n",
        "print(np.sum([array9, array10], axis=1))"
      ],
      "execution_count": 19,
      "outputs": [
        {
          "output_type": "stream",
          "text": [
            "660\n",
            "[ 60  80 100 120 140 160]\n",
            "[210 450]\n"
          ],
          "name": "stdout"
        }
      ]
    },
    {
      "cell_type": "code",
      "metadata": {
        "colab": {
          "base_uri": "https://localhost:8080/"
        },
        "id": "3SWbkEKGUdug",
        "outputId": "da8948e0-01d0-4424-9a88-b1f29a161469"
      },
      "source": [
        "# Basic mathematics on numpy arrays\n",
        "print(array9 + 10)\n",
        "print(array9 - 10)\n",
        "print(array9 * 5)\n",
        "print(array9 / 2)"
      ],
      "execution_count": 20,
      "outputs": [
        {
          "output_type": "stream",
          "text": [
            "[20 30 40 50 60 70]\n",
            "[ 0 10 20 30 40 50]\n",
            "[ 50 100 150 200 250 300]\n",
            "[ 5. 10. 15. 20. 25. 30.]\n"
          ],
          "name": "stdout"
        }
      ]
    },
    {
      "cell_type": "code",
      "metadata": {
        "colab": {
          "base_uri": "https://localhost:8080/"
        },
        "id": "p5DEDGN6VUcm",
        "outputId": "1266dc0f-8742-44f3-9571-23c375b46ae0"
      },
      "source": [
        "# Mean, Median, Standard deviation\n",
        "print(\"Mean is \", np.mean(array9))\n",
        "print(\"Median is \", np.median(array9))\n",
        "print(\"Standard Deviation is \", np.std(array9))"
      ],
      "execution_count": 22,
      "outputs": [
        {
          "output_type": "stream",
          "text": [
            "Mean is  35.0\n",
            "Median is  35.0\n",
            "Standard Deviation is  17.07825127659933\n"
          ],
          "name": "stdout"
        }
      ]
    },
    {
      "cell_type": "code",
      "metadata": {
        "colab": {
          "base_uri": "https://localhost:8080/"
        },
        "id": "EW9cHlJ7Vy9z",
        "outputId": "754cb354-48c3-4b34-df95-9b54e8f2a7c4"
      },
      "source": [
        "# Save and Load numpy\n",
        "np.save('mynumpy',array9)\n",
        "print(np.load('mynumpy.npy'))"
      ],
      "execution_count": 24,
      "outputs": [
        {
          "output_type": "stream",
          "text": [
            "[10 20 30 40 50 60]\n"
          ],
          "name": "stdout"
        }
      ]
    },
    {
      "cell_type": "code",
      "metadata": {
        "id": "VoJvGACrWhq_"
      },
      "source": [
        ""
      ],
      "execution_count": null,
      "outputs": []
    }
  ]
}